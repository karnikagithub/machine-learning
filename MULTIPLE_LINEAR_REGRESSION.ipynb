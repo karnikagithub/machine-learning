{
 "cells": [
  {
   "cell_type": "markdown",
   "metadata": {},
   "source": [
    "         IMPORTING LIBRARIES & IMPORTING DATASET"
   ]
  },
  {
   "cell_type": "code",
   "execution_count": 1,
   "metadata": {},
   "outputs": [],
   "source": [
    "import numpy as np\n",
    "import pandas as pd\n",
    "\n",
    "df = pd.read_csv('Advertising.csv')"
   ]
  },
  {
   "cell_type": "code",
   "execution_count": 2,
   "metadata": {},
   "outputs": [
    {
     "data": {
      "text/html": [
       "<div>\n",
       "<style scoped>\n",
       "    .dataframe tbody tr th:only-of-type {\n",
       "        vertical-align: middle;\n",
       "    }\n",
       "\n",
       "    .dataframe tbody tr th {\n",
       "        vertical-align: top;\n",
       "    }\n",
       "\n",
       "    .dataframe thead th {\n",
       "        text-align: right;\n",
       "    }\n",
       "</style>\n",
       "<table border=\"1\" class=\"dataframe\">\n",
       "  <thead>\n",
       "    <tr style=\"text-align: right;\">\n",
       "      <th></th>\n",
       "      <th>TV</th>\n",
       "      <th>Radio</th>\n",
       "      <th>Newspaper</th>\n",
       "      <th>Sales</th>\n",
       "    </tr>\n",
       "  </thead>\n",
       "  <tbody>\n",
       "    <tr>\n",
       "      <th>0</th>\n",
       "      <td>230.1</td>\n",
       "      <td>37.8</td>\n",
       "      <td>69.2</td>\n",
       "      <td>22.1</td>\n",
       "    </tr>\n",
       "    <tr>\n",
       "      <th>1</th>\n",
       "      <td>44.5</td>\n",
       "      <td>39.3</td>\n",
       "      <td>45.1</td>\n",
       "      <td>10.4</td>\n",
       "    </tr>\n",
       "    <tr>\n",
       "      <th>2</th>\n",
       "      <td>17.2</td>\n",
       "      <td>45.9</td>\n",
       "      <td>69.3</td>\n",
       "      <td>12.0</td>\n",
       "    </tr>\n",
       "    <tr>\n",
       "      <th>3</th>\n",
       "      <td>151.5</td>\n",
       "      <td>41.3</td>\n",
       "      <td>58.5</td>\n",
       "      <td>16.5</td>\n",
       "    </tr>\n",
       "    <tr>\n",
       "      <th>4</th>\n",
       "      <td>180.8</td>\n",
       "      <td>10.8</td>\n",
       "      <td>58.4</td>\n",
       "      <td>17.9</td>\n",
       "    </tr>\n",
       "    <tr>\n",
       "      <th>...</th>\n",
       "      <td>...</td>\n",
       "      <td>...</td>\n",
       "      <td>...</td>\n",
       "      <td>...</td>\n",
       "    </tr>\n",
       "    <tr>\n",
       "      <th>195</th>\n",
       "      <td>38.2</td>\n",
       "      <td>3.7</td>\n",
       "      <td>13.8</td>\n",
       "      <td>7.6</td>\n",
       "    </tr>\n",
       "    <tr>\n",
       "      <th>196</th>\n",
       "      <td>94.2</td>\n",
       "      <td>4.9</td>\n",
       "      <td>8.1</td>\n",
       "      <td>14.0</td>\n",
       "    </tr>\n",
       "    <tr>\n",
       "      <th>197</th>\n",
       "      <td>177.0</td>\n",
       "      <td>9.3</td>\n",
       "      <td>6.4</td>\n",
       "      <td>14.8</td>\n",
       "    </tr>\n",
       "    <tr>\n",
       "      <th>198</th>\n",
       "      <td>283.6</td>\n",
       "      <td>42.0</td>\n",
       "      <td>66.2</td>\n",
       "      <td>25.5</td>\n",
       "    </tr>\n",
       "    <tr>\n",
       "      <th>199</th>\n",
       "      <td>232.1</td>\n",
       "      <td>8.6</td>\n",
       "      <td>8.7</td>\n",
       "      <td>18.4</td>\n",
       "    </tr>\n",
       "  </tbody>\n",
       "</table>\n",
       "<p>200 rows × 4 columns</p>\n",
       "</div>"
      ],
      "text/plain": [
       "        TV  Radio  Newspaper  Sales\n",
       "0    230.1   37.8       69.2   22.1\n",
       "1     44.5   39.3       45.1   10.4\n",
       "2     17.2   45.9       69.3   12.0\n",
       "3    151.5   41.3       58.5   16.5\n",
       "4    180.8   10.8       58.4   17.9\n",
       "..     ...    ...        ...    ...\n",
       "195   38.2    3.7       13.8    7.6\n",
       "196   94.2    4.9        8.1   14.0\n",
       "197  177.0    9.3        6.4   14.8\n",
       "198  283.6   42.0       66.2   25.5\n",
       "199  232.1    8.6        8.7   18.4\n",
       "\n",
       "[200 rows x 4 columns]"
      ]
     },
     "execution_count": 2,
     "metadata": {},
     "output_type": "execute_result"
    }
   ],
   "source": [
    "df"
   ]
  },
  {
   "cell_type": "markdown",
   "metadata": {},
   "source": [
    "           MAKING FEATURES(i/p) AND LABELS (o/p)"
   ]
  },
  {
   "cell_type": "code",
   "execution_count": 3,
   "metadata": {},
   "outputs": [],
   "source": [
    "x = df['TV'].values.reshape(-1,1)     ## TAKEN 'TV' ONE FEATURE\n",
    "y = df['Sales'].values.reshape(-1,1)"
   ]
  },
  {
   "cell_type": "markdown",
   "metadata": {},
   "source": [
    "              IMPORTING OUR MODEL"
   ]
  },
  {
   "cell_type": "code",
   "execution_count": 6,
   "metadata": {},
   "outputs": [
    {
     "data": {
      "text/plain": [
       "LinearRegression()"
      ]
     },
     "execution_count": 6,
     "metadata": {},
     "output_type": "execute_result"
    }
   ],
   "source": [
    "from sklearn.linear_model import LinearRegression\n",
    "lin = LinearRegression()\n",
    "lin.fit(x,y)"
   ]
  },
  {
   "cell_type": "code",
   "execution_count": 7,
   "metadata": {},
   "outputs": [],
   "source": [
    "## predicting pred_y from feature(x)\n",
    "pred_y = lin.predict(x)"
   ]
  },
  {
   "cell_type": "code",
   "execution_count": 8,
   "metadata": {},
   "outputs": [
    {
     "data": {
      "text/plain": [
       "array([[19.73726517],\n",
       "       [ 9.44300377],\n",
       "       [ 7.92881554],\n",
       "       [15.37773421],\n",
       "       [17.00285199],\n",
       "       [ 7.45736499],\n",
       "       [10.16404579],\n",
       "       [13.6416869 ],\n",
       "       [ 7.45181851],\n",
       "       [18.05668263],\n",
       "       [10.64104282],\n",
       "       [18.88310771],\n",
       "       [ 8.29488303],\n",
       "       [12.38263661],\n",
       "       [18.29518114],\n",
       "       [17.81263764],\n",
       "       [10.73533293],\n",
       "       [22.5826079 ],\n",
       "       [10.8129836 ],\n",
       "       [15.14478218],\n",
       "       [19.08832736],\n",
       "       [20.142158  ],\n",
       "       [ 7.70695646],\n",
       "       [19.63742859],\n",
       "       [10.43027669],\n",
       "       [21.55650964],\n",
       "       [14.90073719],\n",
       "       [20.29191288],\n",
       "       [20.77445638],\n",
       "       [10.89063428],\n",
       "       [23.22045276],\n",
       "       [13.23679407],\n",
       "       [12.36599718],\n",
       "       [21.70626452],\n",
       "       [12.28280002],\n",
       "       [23.09843026],\n",
       "       [21.77836873],\n",
       "       [11.11803984],\n",
       "       [ 9.3653531 ],\n",
       "       [19.62078916],\n",
       "       [18.20643751],\n",
       "       [16.79208586],\n",
       "       [23.2592781 ],\n",
       "       [18.4504825 ],\n",
       "       [ 8.36698723],\n",
       "       [16.6867028 ],\n",
       "       [11.9500114 ],\n",
       "       [20.28081992],\n",
       "       [19.57641734],\n",
       "       [10.68541463],\n",
       "       [18.05668263],\n",
       "       [12.54348444],\n",
       "       [18.97739782],\n",
       "       [17.10268858],\n",
       "       [21.54541669],\n",
       "       [18.00676433],\n",
       "       [ 7.37971431],\n",
       "       [14.52912323],\n",
       "       [18.6667951 ],\n",
       "       [18.66124863],\n",
       "       [ 9.94218671],\n",
       "       [21.46776601],\n",
       "       [20.24754106],\n",
       "       [12.67105342],\n",
       "       [14.2462529 ],\n",
       "       [10.80189065],\n",
       "       [ 8.72196176],\n",
       "       [14.70106401],\n",
       "       [20.142158  ],\n",
       "       [18.99958373],\n",
       "       [18.01785729],\n",
       "       [13.06485329],\n",
       "       [ 8.46127734],\n",
       "       [14.15196279],\n",
       "       [18.81100351],\n",
       "       [ 7.91217611],\n",
       "       [ 8.50010268],\n",
       "       [13.65832633],\n",
       "       [ 7.27433125],\n",
       "       [13.40873486],\n",
       "       [11.21232995],\n",
       "       [20.27527345],\n",
       "       [11.1513187 ],\n",
       "       [10.76861179],\n",
       "       [18.81654998],\n",
       "       [17.69061514],\n",
       "       [11.20678348],\n",
       "       [13.11477158],\n",
       "       [11.87236072],\n",
       "       [13.06485329],\n",
       "       [14.42374016],\n",
       "       [ 8.56111392],\n",
       "       [19.04950202],\n",
       "       [20.8909324 ],\n",
       "       [12.93173784],\n",
       "       [16.03221851],\n",
       "       [17.93466013],\n",
       "       [17.23025755],\n",
       "       [23.04296549],\n",
       "       [14.47365846],\n",
       "       [19.31018644],\n",
       "       [23.41457946],\n",
       "       [22.51605017],\n",
       "       [17.39665186],\n",
       "       [20.18652981],\n",
       "       [14.62341334],\n",
       "       [ 8.36144075],\n",
       "       [11.98883674],\n",
       "       [ 7.70140998],\n",
       "       [21.14052387],\n",
       "       [19.49876666],\n",
       "       [20.38065651],\n",
       "       [16.71998166],\n",
       "       [18.60023738],\n",
       "       [11.31216654],\n",
       "       [11.14022575],\n",
       "       [14.69551754],\n",
       "       [11.21232995],\n",
       "       [13.94674314],\n",
       "       [ 8.05083804],\n",
       "       [14.81199356],\n",
       "       [ 8.01755917],\n",
       "       [19.39893007],\n",
       "       [13.80253473],\n",
       "       [19.70398631],\n",
       "       [11.81134947],\n",
       "       [ 7.4074467 ],\n",
       "       [11.42309608],\n",
       "       [19.19371042],\n",
       "       [10.28052181],\n",
       "       [ 7.01364683],\n",
       "       [21.68407862],\n",
       "       [ 7.44072556],\n",
       "       [19.16597804],\n",
       "       [ 9.02147152],\n",
       "       [ 9.6537699 ],\n",
       "       [ 8.39471961],\n",
       "       [22.15552917],\n",
       "       [ 9.35980662],\n",
       "       [17.23025755],\n",
       "       [11.04593564],\n",
       "       [17.71834753],\n",
       "       [19.20480338],\n",
       "       [12.77643648],\n",
       "       [12.31053241],\n",
       "       [14.75652879],\n",
       "       [20.29191288],\n",
       "       [20.46385367],\n",
       "       [ 9.08248277],\n",
       "       [ 9.45409673],\n",
       "       [22.54378256],\n",
       "       [13.68605872],\n",
       "       [17.93466013],\n",
       "       [16.47593667],\n",
       "       [17.39110538],\n",
       "       [ 7.20222705],\n",
       "       [12.18296344],\n",
       "       [15.2834441 ],\n",
       "       [ 7.6237593 ],\n",
       "       [14.27953176],\n",
       "       [16.54249439],\n",
       "       [11.72815232],\n",
       "       [17.42438424],\n",
       "       [16.04331146],\n",
       "       [13.47529259],\n",
       "       [19.98131016],\n",
       "       [ 7.96764088],\n",
       "       [18.44493602],\n",
       "       [18.92193305],\n",
       "       [22.74345573],\n",
       "       [ 9.74806001],\n",
       "       [16.09877623],\n",
       "       [ 8.06193099],\n",
       "       [16.31508884],\n",
       "       [19.31018644],\n",
       "       [22.33301643],\n",
       "       [20.75227047],\n",
       "       [16.41492542],\n",
       "       [22.32192348],\n",
       "       [16.15978748],\n",
       "       [15.66060454],\n",
       "       [19.09387384],\n",
       "       [10.09194159],\n",
       "       [22.92648948],\n",
       "       [21.05178023],\n",
       "       [18.34509943],\n",
       "       [14.71215697],\n",
       "       [17.57413912],\n",
       "       [22.83774584],\n",
       "       [ 8.0120127 ],\n",
       "       [ 9.16567992],\n",
       "       [11.16241166],\n",
       "       [ 7.92881554],\n",
       "       [16.2263452 ],\n",
       "       [15.27789763],\n",
       "       [ 9.09357572],\n",
       "       [12.19960287],\n",
       "       [16.79208586],\n",
       "       [22.70463039],\n",
       "       [19.84819471]])"
      ]
     },
     "execution_count": 8,
     "metadata": {},
     "output_type": "execute_result"
    }
   ],
   "source": [
    "pred_y"
   ]
  },
  {
   "cell_type": "code",
   "execution_count": 9,
   "metadata": {},
   "outputs": [
    {
     "data": {
      "text/plain": [
       "array([[22.1       , 19.73726517],\n",
       "       [10.4       ,  9.44300377],\n",
       "       [12.        ,  7.92881554],\n",
       "       [16.5       , 15.37773421],\n",
       "       [17.9       , 17.00285199],\n",
       "       [ 7.2       ,  7.45736499],\n",
       "       [11.8       , 10.16404579],\n",
       "       [13.2       , 13.6416869 ],\n",
       "       [ 4.8       ,  7.45181851],\n",
       "       [15.6       , 18.05668263],\n",
       "       [12.6       , 10.64104282],\n",
       "       [17.4       , 18.88310771],\n",
       "       [ 9.2       ,  8.29488303],\n",
       "       [13.7       , 12.38263661],\n",
       "       [19.        , 18.29518114],\n",
       "       [22.4       , 17.81263764],\n",
       "       [12.5       , 10.73533293],\n",
       "       [24.4       , 22.5826079 ],\n",
       "       [11.3       , 10.8129836 ],\n",
       "       [14.6       , 15.14478218],\n",
       "       [18.        , 19.08832736],\n",
       "       [17.5       , 20.142158  ],\n",
       "       [ 5.6       ,  7.70695646],\n",
       "       [20.5       , 19.63742859],\n",
       "       [ 9.7       , 10.43027669],\n",
       "       [17.        , 21.55650964],\n",
       "       [15.        , 14.90073719],\n",
       "       [20.9       , 20.29191288],\n",
       "       [18.9       , 20.77445638],\n",
       "       [10.5       , 10.89063428],\n",
       "       [21.4       , 23.22045276],\n",
       "       [11.9       , 13.23679407],\n",
       "       [13.2       , 12.36599718],\n",
       "       [17.4       , 21.70626452],\n",
       "       [11.9       , 12.28280002],\n",
       "       [17.8       , 23.09843026],\n",
       "       [25.4       , 21.77836873],\n",
       "       [14.7       , 11.11803984],\n",
       "       [10.1       ,  9.3653531 ],\n",
       "       [21.5       , 19.62078916],\n",
       "       [16.6       , 18.20643751],\n",
       "       [17.1       , 16.79208586],\n",
       "       [20.7       , 23.2592781 ],\n",
       "       [17.9       , 18.4504825 ],\n",
       "       [ 8.5       ,  8.36698723],\n",
       "       [16.1       , 16.6867028 ],\n",
       "       [10.6       , 11.9500114 ],\n",
       "       [23.2       , 20.28081992],\n",
       "       [19.8       , 19.57641734],\n",
       "       [ 9.7       , 10.68541463],\n",
       "       [16.4       , 18.05668263],\n",
       "       [10.7       , 12.54348444],\n",
       "       [22.6       , 18.97739782],\n",
       "       [21.2       , 17.10268858],\n",
       "       [20.2       , 21.54541669],\n",
       "       [23.7       , 18.00676433],\n",
       "       [ 5.5       ,  7.37971431],\n",
       "       [13.2       , 14.52912323],\n",
       "       [23.8       , 18.6667951 ],\n",
       "       [18.4       , 18.66124863],\n",
       "       [ 8.1       ,  9.94218671],\n",
       "       [24.2       , 21.46776601],\n",
       "       [20.7       , 20.24754106],\n",
       "       [14.        , 12.67105342],\n",
       "       [16.        , 14.2462529 ],\n",
       "       [11.3       , 10.80189065],\n",
       "       [11.        ,  8.72196176],\n",
       "       [13.4       , 14.70106401],\n",
       "       [18.9       , 20.142158  ],\n",
       "       [22.3       , 18.99958373],\n",
       "       [18.3       , 18.01785729],\n",
       "       [12.4       , 13.06485329],\n",
       "       [ 8.8       ,  8.46127734],\n",
       "       [11.        , 14.15196279],\n",
       "       [17.        , 18.81100351],\n",
       "       [ 8.7       ,  7.91217611],\n",
       "       [ 6.9       ,  8.50010268],\n",
       "       [14.2       , 13.65832633],\n",
       "       [ 5.3       ,  7.27433125],\n",
       "       [11.        , 13.40873486],\n",
       "       [11.8       , 11.21232995],\n",
       "       [17.3       , 20.27527345],\n",
       "       [11.3       , 11.1513187 ],\n",
       "       [13.6       , 10.76861179],\n",
       "       [21.7       , 18.81654998],\n",
       "       [20.2       , 17.69061514],\n",
       "       [12.        , 11.20678348],\n",
       "       [16.        , 13.11477158],\n",
       "       [12.9       , 11.87236072],\n",
       "       [16.7       , 13.06485329],\n",
       "       [14.        , 14.42374016],\n",
       "       [ 7.3       ,  8.56111392],\n",
       "       [19.4       , 19.04950202],\n",
       "       [22.2       , 20.8909324 ],\n",
       "       [11.5       , 12.93173784],\n",
       "       [16.9       , 16.03221851],\n",
       "       [16.7       , 17.93466013],\n",
       "       [20.5       , 17.23025755],\n",
       "       [25.4       , 23.04296549],\n",
       "       [17.2       , 14.47365846],\n",
       "       [16.7       , 19.31018644],\n",
       "       [23.8       , 23.41457946],\n",
       "       [19.8       , 22.51605017],\n",
       "       [19.7       , 17.39665186],\n",
       "       [20.7       , 20.18652981],\n",
       "       [15.        , 14.62341334],\n",
       "       [ 7.2       ,  8.36144075],\n",
       "       [12.        , 11.98883674],\n",
       "       [ 5.3       ,  7.70140998],\n",
       "       [19.8       , 21.14052387],\n",
       "       [18.4       , 19.49876666],\n",
       "       [21.8       , 20.38065651],\n",
       "       [17.1       , 16.71998166],\n",
       "       [20.9       , 18.60023738],\n",
       "       [14.6       , 11.31216654],\n",
       "       [12.6       , 11.14022575],\n",
       "       [12.2       , 14.69551754],\n",
       "       [ 9.4       , 11.21232995],\n",
       "       [15.9       , 13.94674314],\n",
       "       [ 6.6       ,  8.05083804],\n",
       "       [15.5       , 14.81199356],\n",
       "       [ 7.        ,  8.01755917],\n",
       "       [16.6       , 19.39893007],\n",
       "       [15.2       , 13.80253473],\n",
       "       [19.7       , 19.70398631],\n",
       "       [10.6       , 11.81134947],\n",
       "       [ 6.6       ,  7.4074467 ],\n",
       "       [11.9       , 11.42309608],\n",
       "       [24.7       , 19.19371042],\n",
       "       [ 9.7       , 10.28052181],\n",
       "       [ 1.6       ,  7.01364683],\n",
       "       [17.7       , 21.68407862],\n",
       "       [ 5.7       ,  7.44072556],\n",
       "       [19.6       , 19.16597804],\n",
       "       [10.8       ,  9.02147152],\n",
       "       [11.6       ,  9.6537699 ],\n",
       "       [ 9.5       ,  8.39471961],\n",
       "       [20.8       , 22.15552917],\n",
       "       [ 9.6       ,  9.35980662],\n",
       "       [20.7       , 17.23025755],\n",
       "       [10.9       , 11.04593564],\n",
       "       [19.2       , 17.71834753],\n",
       "       [20.1       , 19.20480338],\n",
       "       [10.4       , 12.77643648],\n",
       "       [12.3       , 12.31053241],\n",
       "       [10.3       , 14.75652879],\n",
       "       [18.2       , 20.29191288],\n",
       "       [25.4       , 20.46385367],\n",
       "       [10.9       ,  9.08248277],\n",
       "       [10.1       ,  9.45409673],\n",
       "       [16.1       , 22.54378256],\n",
       "       [11.6       , 13.68605872],\n",
       "       [16.6       , 17.93466013],\n",
       "       [16.        , 16.47593667],\n",
       "       [20.6       , 17.39110538],\n",
       "       [ 3.2       ,  7.20222705],\n",
       "       [15.3       , 12.18296344],\n",
       "       [10.1       , 15.2834441 ],\n",
       "       [ 7.3       ,  7.6237593 ],\n",
       "       [12.9       , 14.27953176],\n",
       "       [16.4       , 16.54249439],\n",
       "       [13.3       , 11.72815232],\n",
       "       [19.9       , 17.42438424],\n",
       "       [18.        , 16.04331146],\n",
       "       [11.9       , 13.47529259],\n",
       "       [16.9       , 19.98131016],\n",
       "       [ 8.        ,  7.96764088],\n",
       "       [17.2       , 18.44493602],\n",
       "       [17.1       , 18.92193305],\n",
       "       [20.        , 22.74345573],\n",
       "       [ 8.4       ,  9.74806001],\n",
       "       [17.5       , 16.09877623],\n",
       "       [ 7.6       ,  8.06193099],\n",
       "       [16.7       , 16.31508884],\n",
       "       [16.5       , 19.31018644],\n",
       "       [27.        , 22.33301643],\n",
       "       [20.2       , 20.75227047],\n",
       "       [16.7       , 16.41492542],\n",
       "       [16.8       , 22.32192348],\n",
       "       [17.6       , 16.15978748],\n",
       "       [15.5       , 15.66060454],\n",
       "       [17.2       , 19.09387384],\n",
       "       [ 8.7       , 10.09194159],\n",
       "       [26.2       , 22.92648948],\n",
       "       [17.6       , 21.05178023],\n",
       "       [22.6       , 18.34509943],\n",
       "       [10.3       , 14.71215697],\n",
       "       [17.3       , 17.57413912],\n",
       "       [20.9       , 22.83774584],\n",
       "       [ 6.7       ,  8.0120127 ],\n",
       "       [10.8       ,  9.16567992],\n",
       "       [11.9       , 11.16241166],\n",
       "       [ 5.9       ,  7.92881554],\n",
       "       [19.6       , 16.2263452 ],\n",
       "       [17.3       , 15.27789763],\n",
       "       [ 7.6       ,  9.09357572],\n",
       "       [14.        , 12.19960287],\n",
       "       [14.8       , 16.79208586],\n",
       "       [25.5       , 22.70463039],\n",
       "       [18.4       , 19.84819471]])"
      ]
     },
     "execution_count": 9,
     "metadata": {},
     "output_type": "execute_result"
    }
   ],
   "source": [
    "np.concatenate((y, pred_y), axis = 1)"
   ]
  },
  {
   "cell_type": "code",
   "execution_count": 10,
   "metadata": {},
   "outputs": [
    {
     "data": {
      "text/plain": [
       "1.8305872641932417"
      ]
     },
     "execution_count": 10,
     "metadata": {},
     "output_type": "execute_result"
    }
   ],
   "source": [
    "## TO FIND ABSOLUTE MEAN VALUE\n",
    "np.abs(y-pred_y).mean()"
   ]
  },
  {
   "cell_type": "code",
   "execution_count": 11,
   "metadata": {},
   "outputs": [
    {
     "data": {
      "text/plain": [
       "array([[15.29453706]])"
      ]
     },
     "execution_count": 11,
     "metadata": {},
     "output_type": "execute_result"
    }
   ],
   "source": [
    "lin.predict([[150]])"
   ]
  },
  {
   "cell_type": "markdown",
   "metadata": {},
   "source": [
    "                                IMPORTING METRICS LIBRARY"
   ]
  },
  {
   "cell_type": "code",
   "execution_count": 12,
   "metadata": {},
   "outputs": [],
   "source": [
    "from sklearn import metrics"
   ]
  },
  {
   "cell_type": "code",
   "execution_count": 18,
   "metadata": {},
   "outputs": [
    {
     "data": {
      "text/plain": [
       "1.8305872641932417"
      ]
     },
     "execution_count": 18,
     "metadata": {},
     "output_type": "execute_result"
    }
   ],
   "source": [
    "metrics.mean_absolute_error(y, pred_y) ## TO FIND MEAN ABSOLUTE ERROR"
   ]
  },
  {
   "cell_type": "code",
   "execution_count": 13,
   "metadata": {},
   "outputs": [
    {
     "data": {
      "text/plain": [
       "5.2177438977951285"
      ]
     },
     "execution_count": 13,
     "metadata": {},
     "output_type": "execute_result"
    }
   ],
   "source": [
    "metrics.mean_squared_error(y, pred_y) ## TO FIND MEAN SQUARED ERROR"
   ]
  },
  {
   "cell_type": "code",
   "execution_count": 14,
   "metadata": {},
   "outputs": [
    {
     "data": {
      "text/html": [
       "<div>\n",
       "<style scoped>\n",
       "    .dataframe tbody tr th:only-of-type {\n",
       "        vertical-align: middle;\n",
       "    }\n",
       "\n",
       "    .dataframe tbody tr th {\n",
       "        vertical-align: top;\n",
       "    }\n",
       "\n",
       "    .dataframe thead th {\n",
       "        text-align: right;\n",
       "    }\n",
       "</style>\n",
       "<table border=\"1\" class=\"dataframe\">\n",
       "  <thead>\n",
       "    <tr style=\"text-align: right;\">\n",
       "      <th></th>\n",
       "      <th>TV</th>\n",
       "      <th>Radio</th>\n",
       "      <th>Newspaper</th>\n",
       "      <th>Sales</th>\n",
       "    </tr>\n",
       "  </thead>\n",
       "  <tbody>\n",
       "    <tr>\n",
       "      <th>TV</th>\n",
       "      <td>1.000000</td>\n",
       "      <td>0.054809</td>\n",
       "      <td>0.056648</td>\n",
       "      <td>0.901208</td>\n",
       "    </tr>\n",
       "    <tr>\n",
       "      <th>Radio</th>\n",
       "      <td>0.054809</td>\n",
       "      <td>1.000000</td>\n",
       "      <td>0.354104</td>\n",
       "      <td>0.349631</td>\n",
       "    </tr>\n",
       "    <tr>\n",
       "      <th>Newspaper</th>\n",
       "      <td>0.056648</td>\n",
       "      <td>0.354104</td>\n",
       "      <td>1.000000</td>\n",
       "      <td>0.157960</td>\n",
       "    </tr>\n",
       "    <tr>\n",
       "      <th>Sales</th>\n",
       "      <td>0.901208</td>\n",
       "      <td>0.349631</td>\n",
       "      <td>0.157960</td>\n",
       "      <td>1.000000</td>\n",
       "    </tr>\n",
       "  </tbody>\n",
       "</table>\n",
       "</div>"
      ],
      "text/plain": [
       "                 TV     Radio  Newspaper     Sales\n",
       "TV         1.000000  0.054809   0.056648  0.901208\n",
       "Radio      0.054809  1.000000   0.354104  0.349631\n",
       "Newspaper  0.056648  0.354104   1.000000  0.157960\n",
       "Sales      0.901208  0.349631   0.157960  1.000000"
      ]
     },
     "execution_count": 14,
     "metadata": {},
     "output_type": "execute_result"
    }
   ],
   "source": [
    "df.corr()    ## TO KNOW CO-RELATION & CASUALITY"
   ]
  },
  {
   "cell_type": "markdown",
   "metadata": {},
   "source": [
    "                IMPORTING SEABORN TO SEE CO-RELATION IN HEAT MAP"
   ]
  },
  {
   "cell_type": "code",
   "execution_count": 15,
   "metadata": {},
   "outputs": [
    {
     "name": "stderr",
     "output_type": "stream",
     "text": [
      "Matplotlib is building the font cache; this may take a moment.\n"
     ]
    }
   ],
   "source": [
    "import seaborn as sns"
   ]
  },
  {
   "cell_type": "code",
   "execution_count": 16,
   "metadata": {},
   "outputs": [
    {
     "data": {
      "text/plain": [
       "<AxesSubplot:>"
      ]
     },
     "execution_count": 16,
     "metadata": {},
     "output_type": "execute_result"
    },
    {
     "data": {
      "image/png": "[encoded data removed]",
      "text/plain": [
       "<Figure size 432x288 with 2 Axes>"
      ]
     },
     "metadata": {
      "needs_background": "light"
     },
     "output_type": "display_data"
    }
   ],
   "source": [
    "sns.heatmap(df.corr(), annot=True)  ## USED TO CHECK FOR MULTIPLE FEATURES"
   ]
  },
  {
   "cell_type": "code",
   "execution_count": 19,
   "metadata": {},
   "outputs": [],
   "source": [
    "x = df[['TV', 'Radio']].values ## NOW CHECKING MULTIPLE FEATURES "
   ]
  },
  {
   "cell_type": "code",
   "execution_count": 21,
   "metadata": {},
   "outputs": [
    {
     "data": {
      "text/plain": [
       "LinearRegression()"
      ]
     },
     "execution_count": 21,
     "metadata": {},
     "output_type": "execute_result"
    }
   ],
   "source": [
    "lin = LinearRegression()\n",
    "lin.fit(x,y)"
   ]
  },
  {
   "cell_type": "code",
   "execution_count": 22,
   "metadata": {},
   "outputs": [],
   "source": [
    "pred_y1 = lin.predict(x)"
   ]
  },
  {
   "cell_type": "code",
   "execution_count": 23,
   "metadata": {},
   "outputs": [
    {
     "data": {
      "text/plain": [
       "array([[21.21078412],\n",
       "       [11.26581887],\n",
       "       [10.48671441],\n",
       "       [17.30620681],\n",
       "       [15.63273693],\n",
       "       [10.34542196],\n",
       "       [11.27702065],\n",
       "       [13.27626614],\n",
       "       [ 5.32420713],\n",
       "       [15.7884357 ],\n",
       "       [ 8.85156828],\n",
       "       [18.89326105],\n",
       "       [ 9.68859218],\n",
       "       [10.75417988],\n",
       "       [19.26995575],\n",
       "       [20.38243344],\n",
       "       [12.24510831],\n",
       "       [24.19693004],\n",
       "       [10.59582626],\n",
       "       [15.21268363],\n",
       "       [19.49126811],\n",
       "       [18.10365306],\n",
       "       [ 7.05368143],\n",
       "       [18.87282745],\n",
       "       [ 9.37344932],\n",
       "       [19.32062224],\n",
       "       [15.55185089],\n",
       "       [19.49389028],\n",
       "       [21.08221178],\n",
       "       [10.18976923],\n",
       "       [23.61202043],\n",
       "       [12.64300467],\n",
       "       [10.0840803 ],\n",
       "       [21.23601486],\n",
       "       [ 9.99168941],\n",
       "       [20.89860809],\n",
       "       [23.85755331],\n",
       "       [13.99264065],\n",
       "       [ 9.83919073],\n",
       "       [21.08572385],\n",
       "       [18.04678695],\n",
       "       [17.8479762 ],\n",
       "       [23.58582996],\n",
       "       [16.79663584],\n",
       "       [ 8.75193486],\n",
       "       [16.57632034],\n",
       "       [10.5759795 ],\n",
       "       [22.14092985],\n",
       "       [18.69504157],\n",
       "       [ 9.52745742],\n",
       "       [15.84202299],\n",
       "       [11.12643101],\n",
       "       [20.88281419],\n",
       "       [19.52472489],\n",
       "       [22.0212491 ],\n",
       "       [20.75520158],\n",
       "       [ 8.03996233],\n",
       "       [14.10457969],\n",
       "       [21.42457912],\n",
       "       [19.26492534],\n",
       "       [ 7.75824801],\n",
       "       [23.4347471 ],\n",
       "       [19.32172162],\n",
       "       [13.39515504],\n",
       "       [16.35620987],\n",
       "       [ 9.38458127],\n",
       "       [ 8.98251618],\n",
       "       [13.76965098],\n",
       "       [20.50436345],\n",
       "       [21.14037783],\n",
       "       [18.75120943],\n",
       "       [12.14197172],\n",
       "       [ 9.62687247],\n",
       "       [12.28747004],\n",
       "       [18.88678214],\n",
       "       [10.23459567],\n",
       "       [ 6.2997052 ],\n",
       "       [14.24645452],\n",
       "       [ 8.12942354],\n",
       "       [11.77220311],\n",
       "       [11.65234112],\n",
       "       [18.12715599],\n",
       "       [10.90653001],\n",
       "       [13.1244568 ],\n",
       "       [20.86423915],\n",
       "       [17.12243079],\n",
       "       [11.73263588],\n",
       "       [15.00966701],\n",
       "       [12.17167427],\n",
       "       [15.73231986],\n",
       "       [12.46853029],\n",
       "       [ 6.3488816 ],\n",
       "       [20.07476636],\n",
       "       [22.20399557],\n",
       "       [11.97914185],\n",
       "       [16.90911121],\n",
       "       [15.7651051 ],\n",
       "       [16.9491583 ],\n",
       "       [24.93822776],\n",
       "       [16.46155858],\n",
       "       [17.20117899],\n",
       "       [24.65998836],\n",
       "       [20.96994143],\n",
       "       [16.70524181],\n",
       "       [21.27670971],\n",
       "       [17.11229126],\n",
       "       [ 7.17102377],\n",
       "       [ 9.58521789],\n",
       "       [ 5.38703068],\n",
       "       [21.42014   ],\n",
       "       [17.80428628],\n",
       "       [21.86382698],\n",
       "       [15.84805026],\n",
       "       [18.2511778 ],\n",
       "       [13.90455813],\n",
       "       [12.47110641],\n",
       "       [13.74277117],\n",
       "       [ 8.87651972],\n",
       "       [15.42985551],\n",
       "       [ 7.40198244],\n",
       "       [15.19679613],\n",
       "       [ 7.98020812],\n",
       "       [17.08466564],\n",
       "       [15.0417867 ],\n",
       "       [20.58865461],\n",
       "       [10.64348878],\n",
       "       [ 9.22467218],\n",
       "       [ 8.99768611],\n",
       "       [21.87753951],\n",
       "       [ 9.16213238],\n",
       "       [ 8.91310676],\n",
       "       [19.38155011],\n",
       "       [ 8.00339907],\n",
       "       [20.18910917],\n",
       "       [10.77698457],\n",
       "       [12.29796912],\n",
       "       [10.20458114],\n",
       "       [22.63090513],\n",
       "       [ 9.74800617],\n",
       "       [19.40345598],\n",
       "       [10.44940089],\n",
       "       [18.97162298],\n",
       "       [20.19507107],\n",
       "       [10.93713581],\n",
       "       [11.45505314],\n",
       "       [12.47370034],\n",
       "       [18.48644931],\n",
       "       [23.12442071],\n",
       "       [11.0190752 ],\n",
       "       [ 9.82985195],\n",
       "       [21.40442928],\n",
       "       [12.11947011],\n",
       "       [17.88716162],\n",
       "       [18.21281692],\n",
       "       [17.11777774],\n",
       "       [ 6.09734523],\n",
       "       [14.40573073],\n",
       "       [12.92666072],\n",
       "       [ 9.22267399],\n",
       "       [13.7738197 ],\n",
       "       [15.96318493],\n",
       "       [13.13400505],\n",
       "       [16.82892341],\n",
       "       [17.47730877],\n",
       "       [12.58776386],\n",
       "       [17.7635543 ],\n",
       "       [ 9.63527974],\n",
       "       [16.44823231],\n",
       "       [18.88850549],\n",
       "       [21.24676946],\n",
       "       [ 8.59655253],\n",
       "       [15.82768205],\n",
       "       [ 7.85228798],\n",
       "       [14.56102391],\n",
       "       [17.10472187],\n",
       "       [24.94863323],\n",
       "       [21.39267336],\n",
       "       [14.73405424],\n",
       "       [19.94340841],\n",
       "       [14.71937307],\n",
       "       [13.4362406 ],\n",
       "       [17.10672007],\n",
       "       [ 8.30180611],\n",
       "       [24.89890714],\n",
       "       [20.73284407],\n",
       "       [20.62648958],\n",
       "       [12.45157609],\n",
       "       [18.11198606],\n",
       "       [21.69300877],\n",
       "       [ 6.94588734],\n",
       "       [11.18648829],\n",
       "       [ 9.89926137],\n",
       "       [ 6.00681733],\n",
       "       [18.21429811],\n",
       "       [16.59730363],\n",
       "       [ 7.10737568],\n",
       "       [10.28512696],\n",
       "       [15.26506903],\n",
       "       [24.57393672],\n",
       "       [18.19018456]])"
      ]
     },
     "execution_count": 23,
     "metadata": {},
     "output_type": "execute_result"
    }
   ],
   "source": [
    "pred_y1"
   ]
  },
  {
   "cell_type": "code",
   "execution_count": 24,
   "metadata": {},
   "outputs": [
    {
     "data": {
      "text/plain": [
       "1.2367636706717362"
      ]
     },
     "execution_count": 24,
     "metadata": {},
     "output_type": "execute_result"
    }
   ],
   "source": [
    "metrics.mean_absolute_error(y, pred_y1)"
   ]
  },
  {
   "cell_type": "code",
   "execution_count": 25,
   "metadata": {},
   "outputs": [
    {
     "data": {
      "text/plain": [
       "2.7060525778834883"
      ]
     },
     "execution_count": 25,
     "metadata": {},
     "output_type": "execute_result"
    }
   ],
   "source": [
    "metrics.mean_squared_error(y, pred_y1)"
   ]
  },
  {
   "cell_type": "code",
   "execution_count": 26,
   "metadata": {},
   "outputs": [
    {
     "data": {
      "text/plain": [
       "array([[16.54933357]])"
      ]
     },
     "execution_count": 26,
     "metadata": {},
     "output_type": "execute_result"
    }
   ],
   "source": [
    "lin.predict([[150, 35]])"
   ]
  },
  {
   "cell_type": "code",
   "execution_count": 27,
   "metadata": {},
   "outputs": [],
   "source": [
    "x = df[['TV', 'Newspaper']].values"
   ]
  },
  {
   "cell_type": "code",
   "execution_count": 28,
   "metadata": {},
   "outputs": [
    {
     "data": {
      "text/plain": [
       "LinearRegression()"
      ]
     },
     "execution_count": 28,
     "metadata": {},
     "output_type": "execute_result"
    }
   ],
   "source": [
    "lin = LinearRegression()\n",
    "lin.fit(x,y)"
   ]
  },
  {
   "cell_type": "code",
   "execution_count": 29,
   "metadata": {},
   "outputs": [
    {
     "data": {
      "text/plain": [
       "array([[20.71183349],\n",
       "       [ 9.85985517],\n",
       "       [ 8.98559455],\n",
       "       [16.10326332],\n",
       "       [17.71482296],\n",
       "       [ 8.66564471],\n",
       "       [10.01397251],\n",
       "       [13.15851311],\n",
       "       [ 6.73454718],\n",
       "       [17.79355051],\n",
       "       [10.50596882],\n",
       "       [18.16683491],\n",
       "       [ 9.26072115],\n",
       "       [11.79345646],\n",
       "       [18.6757735 ],\n",
       "       [18.37603125],\n",
       "       [12.93635085],\n",
       "       [23.18930624],\n",
       "       [10.52322379],\n",
       "       [14.84663603],\n",
       "       [19.65613144],\n",
       "       [19.92481569],\n",
       "       [ 8.25260829],\n",
       "       [19.49374695],\n",
       "       [10.14309695],\n",
       "       [21.2255464 ],\n",
       "       [14.43509678],\n",
       "       [20.05794809],\n",
       "       [20.53723845],\n",
       "       [11.18583395],\n",
       "       [23.49498051],\n",
       "       [13.45892951],\n",
       "       [12.37021862],\n",
       "       [20.87467954],\n",
       "       [11.69949723],\n",
       "       [22.47083579],\n",
       "       [21.06859853],\n",
       "       [11.5392116 ],\n",
       "       [ 9.52251333],\n",
       "       [19.62814419],\n",
       "       [18.21291904],\n",
       "       [16.99285487],\n",
       "       [22.45625543],\n",
       "       [18.32000714],\n",
       "       [ 8.74425412],\n",
       "       [16.70082771],\n",
       "       [12.10535963],\n",
       "       [19.93243548],\n",
       "       [20.04985575],\n",
       "       [10.87791196],\n",
       "       [18.14223815],\n",
       "       [11.85954264],\n",
       "       [19.18685352],\n",
       "       [17.82179292],\n",
       "       [21.12085095],\n",
       "       [18.75360161],\n",
       "       [ 7.71419628],\n",
       "       [14.17007397],\n",
       "       [18.828904  ],\n",
       "       [18.08438529],\n",
       "       [ 9.73896405],\n",
       "       [22.05335663],\n",
       "       [20.12836987],\n",
       "       [12.11115462],\n",
       "       [14.20917469],\n",
       "       [10.05943212],\n",
       "       [ 8.02735331],\n",
       "       [14.17431822],\n",
       "       [19.59954737],\n",
       "       [18.88622369],\n",
       "       [18.21036257],\n",
       "       [13.10859977],\n",
       "       [ 8.21339339],\n",
       "       [14.17797176],\n",
       "       [18.33201215],\n",
       "       [ 9.49209875],\n",
       "       [ 8.28838703],\n",
       "       [13.24269618],\n",
       "       [ 6.77683678],\n",
       "       [13.22637841],\n",
       "       [11.02396374],\n",
       "       [20.40572136],\n",
       "       [11.22878276],\n",
       "       [10.92932247],\n",
       "       [18.87616557],\n",
       "       [18.58790615],\n",
       "       [10.85451943],\n",
       "       [13.9778577 ],\n",
       "       [13.0092417 ],\n",
       "       [13.62122264],\n",
       "       [13.87544467],\n",
       "       [ 8.66905099],\n",
       "       [19.76328805],\n",
       "       [21.93838963],\n",
       "       [12.43513526],\n",
       "       [16.60761509],\n",
       "       [17.27422223],\n",
       "       [16.99351408],\n",
       "       [23.52686152],\n",
       "       [14.87741207],\n",
       "       [19.78281754],\n",
       "       [25.18923703],\n",
       "       [22.22805882],\n",
       "       [17.05209861],\n",
       "       [19.49529769],\n",
       "       [15.36703855],\n",
       "       [ 8.38485311],\n",
       "       [11.8186549 ],\n",
       "       [ 7.62258403],\n",
       "       [20.44806454],\n",
       "       [20.14447024],\n",
       "       [20.15389989],\n",
       "       [15.97665758],\n",
       "       [18.06021542],\n",
       "       [11.44058914],\n",
       "       [11.74339819],\n",
       "       [14.5695397 ],\n",
       "       [10.82880275],\n",
       "       [15.22056383],\n",
       "       [ 7.88378553],\n",
       "       [15.22127267],\n",
       "       [ 8.5819342 ],\n",
       "       [18.98102878],\n",
       "       [13.33909374],\n",
       "       [20.80888631],\n",
       "       [11.71262215],\n",
       "       [ 7.98113919],\n",
       "       [10.89242776],\n",
       "       [18.45452648],\n",
       "       [10.63968401],\n",
       "       [ 6.49969478],\n",
       "       [21.96375978],\n",
       "       [ 6.75215262],\n",
       "       [19.51728046],\n",
       "       [ 9.97460479],\n",
       "       [ 9.11681475],\n",
       "       [ 7.88706972],\n",
       "       [22.86659045],\n",
       "       [ 9.13709085],\n",
       "       [16.46527833],\n",
       "       [10.61408943],\n",
       "       [18.87306408],\n",
       "       [19.3684895 ],\n",
       "       [12.89238533],\n",
       "       [12.54671882],\n",
       "       [14.1981833 ],\n",
       "       [19.68844328],\n",
       "       [20.78558908],\n",
       "       [ 8.63785202],\n",
       "       [ 9.23334744],\n",
       "       [22.6615391 ],\n",
       "       [14.16798216],\n",
       "       [17.49020039],\n",
       "       [16.65281559],\n",
       "       [16.82800922],\n",
       "       [ 6.60893926],\n",
       "       [12.72185887],\n",
       "       [15.11967476],\n",
       "       [ 8.05547757],\n",
       "       [14.39055155],\n",
       "       [16.53677434],\n",
       "       [12.23888818],\n",
       "       [17.28000932],\n",
       "       [15.43465658],\n",
       "       [12.83190749],\n",
       "       [21.36016807],\n",
       "       [ 7.78293423],\n",
       "       [18.1323478 ],\n",
       "       [19.60014905],\n",
       "       [22.0636093 ],\n",
       "       [ 9.4680817 ],\n",
       "       [16.53060605],\n",
       "       [ 7.75688993],\n",
       "       [15.84511764],\n",
       "       [18.82782976],\n",
       "       [22.57709692],\n",
       "       [20.4475463 ],\n",
       "       [16.52716199],\n",
       "       [22.09509023],\n",
       "       [15.81576631],\n",
       "       [15.07794907],\n",
       "       [18.98508242],\n",
       "       [10.1036875 ],\n",
       "       [23.94721294],\n",
       "       [20.99744509],\n",
       "       [18.03838857],\n",
       "       [14.61208842],\n",
       "       [17.23619576],\n",
       "       [22.08700578],\n",
       "       [ 7.87384555],\n",
       "       [ 8.56175735],\n",
       "       [10.55023209],\n",
       "       [ 8.0045853 ],\n",
       "       [15.51757481],\n",
       "       [14.63797286],\n",
       "       [ 8.69831097],\n",
       "       [11.63507599],\n",
       "       [16.15236154],\n",
       "       [23.58112935],\n",
       "       [19.24771652]])"
      ]
     },
     "execution_count": 29,
     "metadata": {},
     "output_type": "execute_result"
    }
   ],
   "source": [
    "pred_y2 = lin.predict(x)\n",
    "pred_y2"
   ]
  },
  {
   "cell_type": "code",
   "execution_count": 30,
   "metadata": {},
   "outputs": [
    {
     "data": {
      "text/plain": [
       "1.7516722680750723"
      ]
     },
     "execution_count": 30,
     "metadata": {},
     "output_type": "execute_result"
    }
   ],
   "source": [
    "metrics.mean_absolute_error(y, pred_y2)"
   ]
  },
  {
   "cell_type": "code",
   "execution_count": 35,
   "metadata": {},
   "outputs": [
    {
     "data": {
      "text/plain": [
       "4.899213086039924"
      ]
     },
     "execution_count": 35,
     "metadata": {},
     "output_type": "execute_result"
    }
   ],
   "source": [
    "metrics.mean_squared_error(y, pred_y2)"
   ]
  },
  {
   "cell_type": "code",
   "execution_count": 36,
   "metadata": {},
   "outputs": [
    {
     "data": {
      "text/plain": [
       "0.8236419280498489"
      ]
     },
     "execution_count": 36,
     "metadata": {},
     "output_type": "execute_result"
    }
   ],
   "source": [
    "lin.score(x,y)"
   ]
  },
  {
   "cell_type": "code",
   "execution_count": null,
   "metadata": {},
   "outputs": [],
   "source": []
  }
 ],
 "metadata": {
  "kernelspec": {
   "display_name": "Python 3",
   "language": "python",
   "name": "python3"
  },
  "language_info": {
   "codemirror_mode": {
    "name": "ipython",
    "version": 3
   },
   "file_extension": ".py",
   "mimetype": "text/x-python",
   "name": "python",
   "nbconvert_exporter": "python",
   "pygments_lexer": "ipython3",
   "version": "3.8.5"
  }
 },
 "nbformat": 4,
 "nbformat_minor": 4
}
