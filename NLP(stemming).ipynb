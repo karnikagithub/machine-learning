{
 "cells": [
  {
   "cell_type": "code",
   "execution_count": 1,
   "metadata": {},
   "outputs": [],
   "source": [
    "import nltk"
   ]
  },
  {
   "cell_type": "code",
   "execution_count": 10,
   "metadata": {},
   "outputs": [
    {
     "name": "stderr",
     "output_type": "stream",
     "text": [
      "[nltk_data] Downloading package stopwords to\n",
      "[nltk_data]     C:\\Users\\Srinath\\AppData\\Roaming\\nltk_data...\n",
      "[nltk_data]   Package stopwords is already up-to-date!\n",
      "[nltk_data] Downloading package punkt to\n",
      "[nltk_data]     C:\\Users\\Srinath\\AppData\\Roaming\\nltk_data...\n",
      "[nltk_data]   Unzipping tokenizers\\punkt.zip.\n"
     ]
    },
    {
     "data": {
      "text/plain": [
       "True"
      ]
     },
     "execution_count": 10,
     "metadata": {},
     "output_type": "execute_result"
    }
   ],
   "source": [
    "nltk.download('stopwords')\n",
    "nltk.download('punkt')"
   ]
  },
  {
   "cell_type": "code",
   "execution_count": 11,
   "metadata": {},
   "outputs": [],
   "source": [
    "paragraph = \"\"\"\"Space technology is technology for use in travel or activities beyond Earth's atmosphere, \n",
    "for purposes such as spaceflight or space exploration. Space technology includes space vehicles such as spacecraft, \n",
    "satellites, space stations and orbital launch vehicles; deep-space communication; in-space propulsion; \n",
    "and a wide variety of other technologies including support infrastructure equipment, and procedures.\n",
    "The space environment is a sufficiently novel environment that attempting to work in it often requires new tools and techniques.\"\"\""
   ]
  },
  {
   "cell_type": "markdown",
   "metadata": {},
   "source": [
    "                        tokenization of sentences in paragraph"
   ]
  },
  {
   "cell_type": "code",
   "execution_count": 16,
   "metadata": {},
   "outputs": [
    {
     "name": "stdout",
     "output_type": "stream",
     "text": [
      "\"Space technology is technology for use in travel or activities beyond Earth's atmosphere, \n",
      "for purposes such as spaceflight or space exploration. Space technology includes space vehicles such as spacecraft, \n",
      "satellites, space stations and orbital launch vehicles; deep-space communication; in-space propulsion; \n",
      "and a wide variety of other technologies including support infrastructure equipment, and procedures.\n",
      "The space environment is a sufficiently novel environment that attempting to work in it often requires new tools and techniques.\n"
     ]
    }
   ],
   "source": [
    "sentence = nltk.sent_tokenize(paragraph)\n",
    "print(paragraph)"
   ]
  },
  {
   "cell_type": "markdown",
   "metadata": {},
   "source": [
    "                        tokenize of words in paragraph"
   ]
  },
  {
   "cell_type": "code",
   "execution_count": 17,
   "metadata": {},
   "outputs": [
    {
     "name": "stdout",
     "output_type": "stream",
     "text": [
      "['``', 'Space', 'technology', 'is', 'technology', 'for', 'use', 'in', 'travel', 'or', 'activities', 'beyond', 'Earth', \"'s\", 'atmosphere', ',', 'for', 'purposes', 'such', 'as', 'spaceflight', 'or', 'space', 'exploration', '.', 'Space', 'technology', 'includes', 'space', 'vehicles', 'such', 'as', 'spacecraft', ',', 'satellites', ',', 'space', 'stations', 'and', 'orbital', 'launch', 'vehicles', ';', 'deep-space', 'communication', ';', 'in-space', 'propulsion', ';', 'and', 'a', 'wide', 'variety', 'of', 'other', 'technologies', 'including', 'support', 'infrastructure', 'equipment', ',', 'and', 'procedures', '.', 'The', 'space', 'environment', 'is', 'a', 'sufficiently', 'novel', 'environment', 'that', 'attempting', 'to', 'work', 'in', 'it', 'often', 'requires', 'new', 'tools', 'and', 'techniques', '.']\n"
     ]
    }
   ],
   "source": [
    "words = nltk.word_tokenize(paragraph)\n",
    "print(words)"
   ]
  },
  {
   "cell_type": "markdown",
   "metadata": {},
   "source": [
    "                    stemming"
   ]
  },
  {
   "cell_type": "code",
   "execution_count": 19,
   "metadata": {},
   "outputs": [],
   "source": [
    "from nltk.stem import PorterStemmer\n",
    "from nltk.corpus import stopwords\n",
    "\n",
    "sentences = nltk.sent_tokenize(paragraph)\n",
    "stemmer = PorterStemmer()\n",
    "\n",
    "# Stemming\n",
    "for i in range(len(sentence)):\n",
    "    words = nltk.word_tokenize(sentence[i])\n",
    "    words = [stemmer.stem(word) for word in words if word not in set(stopwords.words('english'))]\n",
    "    sentence[i] = ' '.join(words)"
   ]
  },
  {
   "cell_type": "code",
   "execution_count": 22,
   "metadata": {},
   "outputs": [
    {
     "name": "stdout",
     "output_type": "stream",
     "text": [
      "[\"`` space technolog technolog use travel activ beyond earth 's atmospher , purpos spaceflight space explor .\", 'space technolog includ space vehicl spacecraft , satellit , space station orbit launch vehicl ; deep-spac commun ; in-spac propuls ; wide varieti technolog includ support infrastructur equip , procedur .', 'the space environ suffici novel environ attempt work often requir new tool techniqu .']\n"
     ]
    }
   ],
   "source": [
    "print(sentence)"
   ]
  },
  {
   "cell_type": "code",
   "execution_count": 23,
   "metadata": {},
   "outputs": [],
   "source": [
    "# Cleaning the texts\n",
    "import re\n",
    "from nltk.corpus import stopwords\n",
    "from nltk.stem.porter import PorterStemmer\n",
    "from nltk.stem import WordNetLemmatizer\n",
    "\n",
    "ps = PorterStemmer()\n",
    "wordnet=WordNetLemmatizer()\n",
    "sentence = nltk.sent_tokenize(paragraph)\n",
    "corpus = []\n",
    "for i in range(len(sentence)):\n",
    "    review = re.sub('[^a-zA-Z]', ' ', sentence[i])\n",
    "    review = review.lower()\n",
    "    review = review.split()\n",
    "    review = [ps.stem(word) for word in review if not word in set(stopwords.words('english'))]\n",
    "    review = ' '.join(review)\n",
    "    corpus.append(review)\n",
    "\n",
    "# Creating the Bag of Words model\n",
    "from sklearn.feature_extraction.text import CountVectorizer\n",
    "cv = CountVectorizer(max_features = 1500)\n",
    "X = cv.fit_transform(corpus).toarray()"
   ]
  },
  {
   "cell_type": "markdown",
   "metadata": {},
   "source": [
    "                                TI-IDF(bag of words)"
   ]
  },
  {
   "cell_type": "code",
   "execution_count": 24,
   "metadata": {},
   "outputs": [],
   "source": [
    "from sklearn.feature_extraction.text import TfidfVectorizer\n",
    "tv = TfidfVectorizer(max_features = 1500)\n",
    "x = tv.fit_transform(corpus).toarray()"
   ]
  },
  {
   "cell_type": "code",
   "execution_count": null,
   "metadata": {},
   "outputs": [],
   "source": []
  }
 ],
 "metadata": {
  "kernelspec": {
   "display_name": "Python 3",
   "language": "python",
   "name": "python3"
  },
  "language_info": {
   "codemirror_mode": {
    "name": "ipython",
    "version": 3
   },
   "file_extension": ".py",
   "mimetype": "text/x-python",
   "name": "python",
   "nbconvert_exporter": "python",
   "pygments_lexer": "ipython3",
   "version": "3.8.5"
  }
 },
 "nbformat": 4,
 "nbformat_minor": 4
}
