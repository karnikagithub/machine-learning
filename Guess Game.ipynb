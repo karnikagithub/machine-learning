{
 "cells": [
  {
   "cell_type": "code",
   "execution_count": 6,
   "metadata": {},
   "outputs": [
    {
     "name": "stdout",
     "output_type": "stream",
     "text": [
      "Please enter number between 1 and 10\n",
      "1\n",
      "guess higher number\n",
      "8\n",
      "Sorry, you've guessed wrong\n"
     ]
    }
   ],
   "source": [
    "answer = 5\n",
    "\n",
    "print('Please enter number between 1 and 10')\n",
    "guess = int(input())\n",
    "\n",
    "if guess > answer :\n",
    "    print('guess lower number')\n",
    "    guess = int(input())\n",
    "    if guess == answer:\n",
    "        print('welldone.. you guessed it')\n",
    "    else:\n",
    "        print('Sorry, you\\'ve guessed wrong')\n",
    "elif guess < answer :\n",
    "    print('guess higher number')\n",
    "    guess = int(input())\n",
    "    if guess == answer:\n",
    "        print('welldone..you guessed it')\n",
    "    else:\n",
    "        print('Sorry, you\\'ve guessed wrong')\n",
    "else:\n",
    "    print('You\\'ve Got it first time')"
   ]
  },
  {
   "cell_type": "code",
   "execution_count": null,
   "metadata": {},
   "outputs": [],
   "source": [
    "## other way using conditional operaters"
   ]
  },
  {
   "cell_type": "code",
   "execution_count": 4,
   "metadata": {},
   "outputs": [
    {
     "name": "stdout",
     "output_type": "stream",
     "text": [
      "Enter any number between 1 and 10\n",
      "5\n",
      "Guess higher\n",
      "7\n",
      "Sorry, you've not guessed correctly\n"
     ]
    }
   ],
   "source": [
    "answer = 6\n",
    "print('Enter any number between 1 and 10')\n",
    "guess = int(input())\n",
    "\n",
    "if guess != answer : ## using conditional operator\n",
    "    if guess < answer:\n",
    "        print('Guess higher')\n",
    "    else:  ## guess must be greater than answer\n",
    "            print('Guess lower')\n",
    "    guess = int(input())\n",
    "    if guess == answer:\n",
    "        print('You\\'ve guessed it')\n",
    "    else:\n",
    "            print('Sorry, you\\'ve not guessed correctly')\n",
    "else:\n",
    "    print('You\\'ve Got it First Time')"
   ]
  },
  {
   "cell_type": "code",
   "execution_count": 18,
   "metadata": {},
   "outputs": [
    {
     "name": "stdout",
     "output_type": "stream",
     "text": [
      "Enter any number between 1 and 10\n",
      "6\n",
      "You've Got it First Time\n"
     ]
    }
   ],
   "source": [
    "answer = 6\n",
    "print('Enter any number between 1 and 10')\n",
    "guess = int(input())\n",
    "\n",
    "if guess == answer : ## using conditional operator\n",
    "    print('You\\'ve Got it First Time')\n",
    "else:\n",
    "    if guess < answer:\n",
    "        print('Guess higher')\n",
    "    else:  ## guess must be greater than answer\n",
    "        print('Guess lower')\n",
    "    guess = int(input())\n",
    "    if guess == answer:\n",
    "        print('You\\'ve guessed it')\n",
    "    else:\n",
    "            print('Sorry, you\\'ve not guessed correctly')"
   ]
  },
  {
   "cell_type": "code",
   "execution_count": 3,
   "metadata": {},
   "outputs": [
    {
     "name": "stdout",
     "output_type": "stream",
     "text": [
      "How old are you? 66\n",
      "Better luck next time\n",
      "--------------------------------------------------------------------------------\n",
      "Better luck next time\n"
     ]
    }
   ],
   "source": [
    "age = int(input('How old are you? '))\n",
    "\n",
    "# if age >= 16 and age <= 65:\n",
    "#if 16 <= age <= 65:    ## other way of writing using simplier comparsion\n",
    "if age in range(16, 66):   ## using range fucntion.\n",
    "    print('Have a nice day')\n",
    "else:\n",
    "    print('Better luck next time')\n",
    "    \n",
    "print('-'*80)\n",
    "\n",
    "#if 16 < age > 65:\n",
    "if 16 < age or age > 65:  ## using or condition\n",
    "    print('Better luck next time')\n",
    "else:\n",
    "    print('have a nice day')"
   ]
  },
  {
   "cell_type": "markdown",
   "metadata": {},
   "source": [
    "               TRUE FALSE VALUES(BOOLEAN values)"
   ]
  },
  {
   "cell_type": "code",
   "execution_count": 43,
   "metadata": {},
   "outputs": [
    {
     "name": "stdout",
     "output_type": "stream",
     "text": [
      "learn more\n"
     ]
    }
   ],
   "source": [
    "day = 'Monday'\n",
    "temperature = 30\n",
    "raining = True\n",
    "#### AND has higher priority.\n",
    "if day == ('Monday' and temperature > 27) and not raining:\n",
    "    print('go swimming')\n",
    "else:\n",
    "    print('learn more')"
   ]
  },
  {
   "cell_type": "markdown",
   "metadata": {},
   "source": [
    "                Truth values"
   ]
  },
  {
   "cell_type": "code",
   "execution_count": 44,
   "metadata": {},
   "outputs": [
    {
     "name": "stdout",
     "output_type": "stream",
     "text": [
      "False\n"
     ]
    }
   ],
   "source": [
    "if 0:\n",
    "    print('True')\n",
    "else:\n",
    "    print('False')"
   ]
  },
  {
   "cell_type": "code",
   "execution_count": 53,
   "metadata": {},
   "outputs": [
    {
     "name": "stdout",
     "output_type": "stream",
     "text": [
      "please enter your name: \n",
      "are you the one with no name?\n"
     ]
    }
   ],
   "source": [
    "name = input('please enter your name: ')\n",
    "\n",
    "# if name != '':\n",
    "if name:\n",
    "    print('Hello, {}'. format(name))\n",
    "else:\n",
    "    print('are you the one with no name?')"
   ]
  },
  {
   "cell_type": "markdown",
   "metadata": {},
   "source": [
    "                   IN and NOT IN expressions"
   ]
  },
  {
   "cell_type": "code",
   "execution_count": 55,
   "metadata": {},
   "outputs": [
    {
     "name": "stdout",
     "output_type": "stream",
     "text": [
      "Enter the character: z\n",
      "I don't need that\n"
     ]
    }
   ],
   "source": [
    "parrot = 'Norwegain Blue'\n",
    "letter = input('Enter the character: ')\n",
    "\n",
    "if letter in parrot:       ## IN \n",
    "    print('{} is in {}'. format(letter, parrot))\n",
    "else:\n",
    "    print('I don\\'t need that')"
   ]
  },
  {
   "cell_type": "code",
   "execution_count": 61,
   "metadata": {},
   "outputs": [
    {
     "name": "stdout",
     "output_type": "stream",
     "text": [
      "what would you like to do today? CINEMA\n",
      "I will go swimming\n"
     ]
    }
   ],
   "source": [
    "activity = input('what would you like to do today? ')\n",
    "### NOT IN\n",
    "if 'swimming' not in activity.casefold():  ## .casefold() is used to convert lowercase to uppercase\n",
    "    print('I will go swimming')"
   ]
  },
  {
   "cell_type": "markdown",
   "metadata": {},
   "source": [
    "                           EXAMPLE(CHALLENAGE)"
   ]
  },
  {
   "cell_type": "code",
   "execution_count": 3,
   "metadata": {},
   "outputs": [
    {
     "name": "stdout",
     "output_type": "stream",
     "text": [
      "Enter your name: l\n",
      "How old are you? 18\n",
      "welcome to holiday club l\n"
     ]
    }
   ],
   "source": [
    "name = input('Enter your name: ')\n",
    "age = int(input('How old are you? '))\n",
    "\n",
    "if 18 <= age != 31 :# using range function\n",
    "#if age in range (18, 31):\n",
    "    print('welcome to holiday club {}'. format(name))\n",
    "else:\n",
    "    print('Sorry, better luck nxt time')"
   ]
  },
  {
   "cell_type": "code",
   "execution_count": 30,
   "metadata": {},
   "outputs": [
    {
     "name": "stdout",
     "output_type": "stream",
     "text": [
      "0\n",
      "7\n",
      "14\n",
      "21\n",
      "28\n",
      "35\n",
      "42\n",
      "49\n",
      "56\n",
      "63\n",
      "70\n",
      "77\n",
      "84\n",
      "91\n",
      "98\n"
     ]
    }
   ],
   "source": [
    "for i in range(0, 101, 7):\n",
    "    print(i)"
   ]
  },
  {
   "cell_type": "code",
   "execution_count": null,
   "metadata": {},
   "outputs": [],
   "source": []
  }
 ],
 "metadata": {
  "kernelspec": {
   "display_name": "Python 3",
   "language": "python",
   "name": "python3"
  },
  "language_info": {
   "codemirror_mode": {
    "name": "ipython",
    "version": 3
   },
   "file_extension": ".py",
   "mimetype": "text/x-python",
   "name": "python",
   "nbconvert_exporter": "python",
   "pygments_lexer": "ipython3",
   "version": "3.8.5"
  }
 },
 "nbformat": 4,
 "nbformat_minor": 4
}
