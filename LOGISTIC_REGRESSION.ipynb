{
 "cells": [
  {
   "cell_type": "markdown",
   "metadata": {},
   "source": [
    "                    IMPORTING LIBRARIES"
   ]
  },
  {
   "cell_type": "code",
   "execution_count": 3,
   "metadata": {},
   "outputs": [],
   "source": [
    "import numpy as np\n",
    "import pandas as pd\n",
    "import matplotlib.pyplot as plt\n",
    "import seaborn as sns"
   ]
  },
  {
   "cell_type": "code",
   "execution_count": 5,
   "metadata": {},
   "outputs": [
    {
     "data": {
      "text/html": [
       "<div>\n",
       "<style scoped>\n",
       "    .dataframe tbody tr th:only-of-type {\n",
       "        vertical-align: middle;\n",
       "    }\n",
       "\n",
       "    .dataframe tbody tr th {\n",
       "        vertical-align: top;\n",
       "    }\n",
       "\n",
       "    .dataframe thead th {\n",
       "        text-align: right;\n",
       "    }\n",
       "</style>\n",
       "<table border=\"1\" class=\"dataframe\">\n",
       "  <thead>\n",
       "    <tr style=\"text-align: right;\">\n",
       "      <th></th>\n",
       "      <th>User ID</th>\n",
       "      <th>Gender</th>\n",
       "      <th>Age</th>\n",
       "      <th>EstimatedSalary</th>\n",
       "      <th>Purchased</th>\n",
       "    </tr>\n",
       "  </thead>\n",
       "  <tbody>\n",
       "    <tr>\n",
       "      <th>0</th>\n",
       "      <td>15624510</td>\n",
       "      <td>Male</td>\n",
       "      <td>19</td>\n",
       "      <td>19000</td>\n",
       "      <td>0</td>\n",
       "    </tr>\n",
       "    <tr>\n",
       "      <th>1</th>\n",
       "      <td>15810944</td>\n",
       "      <td>Male</td>\n",
       "      <td>35</td>\n",
       "      <td>20000</td>\n",
       "      <td>0</td>\n",
       "    </tr>\n",
       "    <tr>\n",
       "      <th>2</th>\n",
       "      <td>15668575</td>\n",
       "      <td>Female</td>\n",
       "      <td>26</td>\n",
       "      <td>43000</td>\n",
       "      <td>0</td>\n",
       "    </tr>\n",
       "    <tr>\n",
       "      <th>3</th>\n",
       "      <td>15603246</td>\n",
       "      <td>Female</td>\n",
       "      <td>27</td>\n",
       "      <td>57000</td>\n",
       "      <td>0</td>\n",
       "    </tr>\n",
       "    <tr>\n",
       "      <th>4</th>\n",
       "      <td>15804002</td>\n",
       "      <td>Male</td>\n",
       "      <td>19</td>\n",
       "      <td>76000</td>\n",
       "      <td>0</td>\n",
       "    </tr>\n",
       "    <tr>\n",
       "      <th>...</th>\n",
       "      <td>...</td>\n",
       "      <td>...</td>\n",
       "      <td>...</td>\n",
       "      <td>...</td>\n",
       "      <td>...</td>\n",
       "    </tr>\n",
       "    <tr>\n",
       "      <th>395</th>\n",
       "      <td>15691863</td>\n",
       "      <td>Female</td>\n",
       "      <td>46</td>\n",
       "      <td>41000</td>\n",
       "      <td>1</td>\n",
       "    </tr>\n",
       "    <tr>\n",
       "      <th>396</th>\n",
       "      <td>15706071</td>\n",
       "      <td>Male</td>\n",
       "      <td>51</td>\n",
       "      <td>23000</td>\n",
       "      <td>1</td>\n",
       "    </tr>\n",
       "    <tr>\n",
       "      <th>397</th>\n",
       "      <td>15654296</td>\n",
       "      <td>Female</td>\n",
       "      <td>50</td>\n",
       "      <td>20000</td>\n",
       "      <td>1</td>\n",
       "    </tr>\n",
       "    <tr>\n",
       "      <th>398</th>\n",
       "      <td>15755018</td>\n",
       "      <td>Male</td>\n",
       "      <td>36</td>\n",
       "      <td>33000</td>\n",
       "      <td>0</td>\n",
       "    </tr>\n",
       "    <tr>\n",
       "      <th>399</th>\n",
       "      <td>15594041</td>\n",
       "      <td>Female</td>\n",
       "      <td>49</td>\n",
       "      <td>36000</td>\n",
       "      <td>1</td>\n",
       "    </tr>\n",
       "  </tbody>\n",
       "</table>\n",
       "<p>400 rows × 5 columns</p>\n",
       "</div>"
      ],
      "text/plain": [
       "      User ID  Gender  Age  EstimatedSalary  Purchased\n",
       "0    15624510    Male   19            19000          0\n",
       "1    15810944    Male   35            20000          0\n",
       "2    15668575  Female   26            43000          0\n",
       "3    15603246  Female   27            57000          0\n",
       "4    15804002    Male   19            76000          0\n",
       "..        ...     ...  ...              ...        ...\n",
       "395  15691863  Female   46            41000          1\n",
       "396  15706071    Male   51            23000          1\n",
       "397  15654296  Female   50            20000          1\n",
       "398  15755018    Male   36            33000          0\n",
       "399  15594041  Female   49            36000          1\n",
       "\n",
       "[400 rows x 5 columns]"
      ]
     },
     "execution_count": 5,
     "metadata": {},
     "output_type": "execute_result"
    }
   ],
   "source": [
    "df = pd.read_csv('Social_Network_Ads.csv')\n",
    "df"
   ]
  },
  {
   "cell_type": "markdown",
   "metadata": {},
   "source": [
    "                ***DROPPING OF COLUMNS WHICH WE DON'T USE***"
   ]
  },
  {
   "cell_type": "code",
   "execution_count": 6,
   "metadata": {},
   "outputs": [
    {
     "data": {
      "text/html": [
       "<div>\n",
       "<style scoped>\n",
       "    .dataframe tbody tr th:only-of-type {\n",
       "        vertical-align: middle;\n",
       "    }\n",
       "\n",
       "    .dataframe tbody tr th {\n",
       "        vertical-align: top;\n",
       "    }\n",
       "\n",
       "    .dataframe thead th {\n",
       "        text-align: right;\n",
       "    }\n",
       "</style>\n",
       "<table border=\"1\" class=\"dataframe\">\n",
       "  <thead>\n",
       "    <tr style=\"text-align: right;\">\n",
       "      <th></th>\n",
       "      <th>Age</th>\n",
       "      <th>EstimatedSalary</th>\n",
       "      <th>Purchased</th>\n",
       "    </tr>\n",
       "  </thead>\n",
       "  <tbody>\n",
       "    <tr>\n",
       "      <th>0</th>\n",
       "      <td>19</td>\n",
       "      <td>19000</td>\n",
       "      <td>0</td>\n",
       "    </tr>\n",
       "    <tr>\n",
       "      <th>1</th>\n",
       "      <td>35</td>\n",
       "      <td>20000</td>\n",
       "      <td>0</td>\n",
       "    </tr>\n",
       "    <tr>\n",
       "      <th>2</th>\n",
       "      <td>26</td>\n",
       "      <td>43000</td>\n",
       "      <td>0</td>\n",
       "    </tr>\n",
       "    <tr>\n",
       "      <th>3</th>\n",
       "      <td>27</td>\n",
       "      <td>57000</td>\n",
       "      <td>0</td>\n",
       "    </tr>\n",
       "    <tr>\n",
       "      <th>4</th>\n",
       "      <td>19</td>\n",
       "      <td>76000</td>\n",
       "      <td>0</td>\n",
       "    </tr>\n",
       "    <tr>\n",
       "      <th>...</th>\n",
       "      <td>...</td>\n",
       "      <td>...</td>\n",
       "      <td>...</td>\n",
       "    </tr>\n",
       "    <tr>\n",
       "      <th>395</th>\n",
       "      <td>46</td>\n",
       "      <td>41000</td>\n",
       "      <td>1</td>\n",
       "    </tr>\n",
       "    <tr>\n",
       "      <th>396</th>\n",
       "      <td>51</td>\n",
       "      <td>23000</td>\n",
       "      <td>1</td>\n",
       "    </tr>\n",
       "    <tr>\n",
       "      <th>397</th>\n",
       "      <td>50</td>\n",
       "      <td>20000</td>\n",
       "      <td>1</td>\n",
       "    </tr>\n",
       "    <tr>\n",
       "      <th>398</th>\n",
       "      <td>36</td>\n",
       "      <td>33000</td>\n",
       "      <td>0</td>\n",
       "    </tr>\n",
       "    <tr>\n",
       "      <th>399</th>\n",
       "      <td>49</td>\n",
       "      <td>36000</td>\n",
       "      <td>1</td>\n",
       "    </tr>\n",
       "  </tbody>\n",
       "</table>\n",
       "<p>400 rows × 3 columns</p>\n",
       "</div>"
      ],
      "text/plain": [
       "     Age  EstimatedSalary  Purchased\n",
       "0     19            19000          0\n",
       "1     35            20000          0\n",
       "2     26            43000          0\n",
       "3     27            57000          0\n",
       "4     19            76000          0\n",
       "..   ...              ...        ...\n",
       "395   46            41000          1\n",
       "396   51            23000          1\n",
       "397   50            20000          1\n",
       "398   36            33000          0\n",
       "399   49            36000          1\n",
       "\n",
       "[400 rows x 3 columns]"
      ]
     },
     "execution_count": 6,
     "metadata": {},
     "output_type": "execute_result"
    }
   ],
   "source": [
    "df = df.drop(columns = ['Gender','User ID'])\n",
    "df"
   ]
  },
  {
   "cell_type": "code",
   "execution_count": 18,
   "metadata": {},
   "outputs": [],
   "source": [
    "## x = df.iloc[:,:-1].values.reshape(-1,1)\n",
    "x = df.iloc[:,:2].values.reshape(1,-1)\n",
    "y = df.iloc[:,-1].values.reshape(1,-1)"
   ]
  },
  {
   "cell_type": "code",
   "execution_count": 19,
   "metadata": {},
   "outputs": [
    {
     "data": {
      "text/plain": [
       "array([[    19,  19000,     35,  20000,     26,  43000,     27,  57000,\n",
       "            19,  76000,     27,  58000,     27,  84000,     32, 150000,\n",
       "            25,  33000,     35,  65000,     26,  80000,     26,  52000,\n",
       "            20,  86000,     32,  18000,     18,  82000,     29,  80000,\n",
       "            47,  25000,     45,  26000,     46,  28000,     48,  29000,\n",
       "            45,  22000,     47,  49000,     48,  41000,     45,  22000,\n",
       "            46,  23000,     47,  20000,     49,  28000,     47,  30000,\n",
       "            29,  43000,     31,  18000,     31,  74000,     27, 137000,\n",
       "            21,  16000,     28,  44000,     27,  90000,     35,  27000,\n",
       "            33,  28000,     30,  49000,     26,  72000,     27,  31000,\n",
       "            27,  17000,     33,  51000,     35, 108000,     30,  15000,\n",
       "            28,  84000,     23,  20000,     25,  79000,     27,  54000,\n",
       "            30, 135000,     31,  89000,     24,  32000,     18,  44000,\n",
       "            29,  83000,     35,  23000,     27,  58000,     24,  55000,\n",
       "            23,  48000,     28,  79000,     22,  18000,     32, 117000,\n",
       "            27,  20000,     25,  87000,     23,  66000,     32, 120000,\n",
       "            59,  83000,     24,  58000,     24,  19000,     23,  82000,\n",
       "            22,  63000,     31,  68000,     25,  80000,     24,  27000,\n",
       "            20,  23000,     33, 113000,     32,  18000,     34, 112000,\n",
       "            18,  52000,     22,  27000,     28,  87000,     26,  17000,\n",
       "            30,  80000,     39,  42000,     20,  49000,     35,  88000,\n",
       "            30,  62000,     31, 118000,     24,  55000,     28,  85000,\n",
       "            26,  81000,     35,  50000,     22,  81000,     30, 116000,\n",
       "            26,  15000,     29,  28000,     29,  83000,     35,  44000,\n",
       "            35,  25000,     28, 123000,     35,  73000,     28,  37000,\n",
       "            27,  88000,     28,  59000,     32,  86000,     33, 149000,\n",
       "            19,  21000,     21,  72000,     26,  35000,     27,  89000,\n",
       "            26,  86000,     38,  80000,     39,  71000,     37,  71000,\n",
       "            38,  61000,     37,  55000,     42,  80000,     40,  57000,\n",
       "            35,  75000,     36,  52000,     40,  59000,     41,  59000,\n",
       "            36,  75000,     37,  72000,     40,  75000,     35,  53000,\n",
       "            41,  51000,     39,  61000,     42,  65000,     26,  32000,\n",
       "            30,  17000,     26,  84000,     31,  58000,     33,  31000,\n",
       "            30,  87000,     21,  68000,     28,  55000,     23,  63000,\n",
       "            20,  82000,     30, 107000,     28,  59000,     19,  25000,\n",
       "            19,  85000,     18,  68000,     35,  59000,     30,  89000,\n",
       "            34,  25000,     24,  89000,     27,  96000,     41,  30000,\n",
       "            29,  61000,     20,  74000,     26,  15000,     41,  45000,\n",
       "            31,  76000,     36,  50000,     40,  47000,     31,  15000,\n",
       "            46,  59000,     29,  75000,     26,  30000,     32, 135000,\n",
       "            32, 100000,     25,  90000,     37,  33000,     35,  38000,\n",
       "            33,  69000,     18,  86000,     22,  55000,     35,  71000,\n",
       "            29, 148000,     29,  47000,     21,  88000,     34, 115000,\n",
       "            26, 118000,     34,  43000,     34,  72000,     23,  28000,\n",
       "            35,  47000,     25,  22000,     24,  23000,     31,  34000,\n",
       "            26,  16000,     31,  71000,     32, 117000,     33,  43000,\n",
       "            33,  60000,     31,  66000,     20,  82000,     33,  41000,\n",
       "            35,  72000,     28,  32000,     24,  84000,     19,  26000,\n",
       "            29,  43000,     19,  70000,     28,  89000,     34,  43000,\n",
       "            30,  79000,     20,  36000,     26,  80000,     35,  22000,\n",
       "            35,  39000,     49,  74000,     39, 134000,     41,  71000,\n",
       "            58, 101000,     47,  47000,     55, 130000,     52, 114000,\n",
       "            40, 142000,     46,  22000,     48,  96000,     52, 150000,\n",
       "            59,  42000,     35,  58000,     47,  43000,     60, 108000,\n",
       "            49,  65000,     40,  78000,     46,  96000,     59, 143000,\n",
       "            41,  80000,     35,  91000,     37, 144000,     60, 102000,\n",
       "            35,  60000,     37,  53000,     36, 126000,     56, 133000,\n",
       "            40,  72000,     42,  80000,     35, 147000,     39,  42000,\n",
       "            40, 107000,     49,  86000,     38, 112000,     46,  79000,\n",
       "            40,  57000,     37,  80000,     46,  82000,     53, 143000,\n",
       "            42, 149000,     38,  59000,     50,  88000,     56, 104000,\n",
       "            41,  72000,     51, 146000,     35,  50000,     57, 122000,\n",
       "            41,  52000,     35,  97000,     44,  39000,     37,  52000,\n",
       "            48, 134000,     37, 146000,     50,  44000,     52,  90000,\n",
       "            41,  72000,     40,  57000,     58,  95000,     45, 131000,\n",
       "            35,  77000,     36, 144000,     55, 125000,     35,  72000,\n",
       "            48,  90000,     42, 108000,     40,  75000,     37,  74000,\n",
       "            47, 144000,     40,  61000,     43, 133000,     59,  76000,\n",
       "            60,  42000,     39, 106000,     57,  26000,     57,  74000,\n",
       "            38,  71000,     49,  88000,     52,  38000,     50,  36000,\n",
       "            59,  88000,     35,  61000,     37,  70000,     52,  21000,\n",
       "            48, 141000,     37,  93000,     37,  62000,     48, 138000,\n",
       "            41,  79000,     37,  78000,     39, 134000,     49,  89000,\n",
       "            55,  39000,     37,  77000,     35,  57000,     36,  63000,\n",
       "            42,  73000,     43, 112000,     45,  79000,     46, 117000,\n",
       "            58,  38000,     48,  74000,     37, 137000,     37,  79000,\n",
       "            40,  60000,     42,  54000,     51, 134000,     47, 113000,\n",
       "            36, 125000,     38,  50000,     42,  70000,     39,  96000,\n",
       "            38,  50000,     49, 141000,     39,  79000,     39,  75000,\n",
       "            54, 104000,     35,  55000,     45,  32000,     36,  60000,\n",
       "            52, 138000,     53,  82000,     41,  52000,     48,  30000,\n",
       "            48, 131000,     41,  60000,     41,  72000,     42,  75000,\n",
       "            36, 118000,     47, 107000,     38,  51000,     48, 119000,\n",
       "            42,  65000,     40,  65000,     57,  60000,     36,  54000,\n",
       "            58, 144000,     35,  79000,     38,  55000,     39, 122000,\n",
       "            53, 104000,     35,  75000,     38,  65000,     47,  51000,\n",
       "            47, 105000,     41,  63000,     53,  72000,     54, 108000,\n",
       "            39,  77000,     38,  61000,     38, 113000,     37,  75000,\n",
       "            42,  90000,     37,  57000,     36,  99000,     60,  34000,\n",
       "            54,  70000,     41,  72000,     40,  71000,     42,  54000,\n",
       "            43, 129000,     53,  34000,     47,  50000,     42,  79000,\n",
       "            42, 104000,     59,  29000,     58,  47000,     46,  88000,\n",
       "            38,  71000,     54,  26000,     60,  46000,     60,  83000,\n",
       "            39,  73000,     59, 130000,     37,  80000,     46,  32000,\n",
       "            46,  74000,     42,  53000,     41,  87000,     58,  23000,\n",
       "            42,  64000,     48,  33000,     44, 139000,     49,  28000,\n",
       "            57,  33000,     56,  60000,     49,  39000,     39,  71000,\n",
       "            47,  34000,     48,  35000,     48,  33000,     47,  23000,\n",
       "            45,  45000,     60,  42000,     39,  59000,     46,  41000,\n",
       "            51,  23000,     50,  20000,     36,  33000,     49,  36000]],\n",
       "      dtype=int64)"
      ]
     },
     "execution_count": 19,
     "metadata": {},
     "output_type": "execute_result"
    }
   ],
   "source": [
    "x"
   ]
  },
  {
   "cell_type": "markdown",
   "metadata": {},
   "source": [
    "                        *** SPLITTING DATASET INTO TRAIN_TEST***"
   ]
  },
  {
   "cell_type": "code",
   "execution_count": 20,
   "metadata": {},
   "outputs": [
    {
     "ename": "ValueError",
     "evalue": "With n_samples=1, test_size=0.2 and train_size=None, the resulting train set will be empty. Adjust any of the aforementioned parameters.",
     "output_type": "error",
     "traceback": [
      "\u001b[1;31m---------------------------------------------------------------------------\u001b[0m",
      "\u001b[1;31mValueError\u001b[0m                                Traceback (most recent call last)",
      "\u001b[1;32m<ipython-input-20-eaac40b45b08>\u001b[0m in \u001b[0;36m<module>\u001b[1;34m\u001b[0m\n\u001b[0;32m      1\u001b[0m \u001b[1;32mfrom\u001b[0m \u001b[0msklearn\u001b[0m\u001b[1;33m.\u001b[0m\u001b[0mmodel_selection\u001b[0m \u001b[1;32mimport\u001b[0m \u001b[0mtrain_test_split\u001b[0m\u001b[1;33m\u001b[0m\u001b[1;33m\u001b[0m\u001b[0m\n\u001b[1;32m----> 2\u001b[1;33m \u001b[0mx_train\u001b[0m\u001b[1;33m,\u001b[0m\u001b[0mx_test\u001b[0m\u001b[1;33m,\u001b[0m\u001b[0my_train\u001b[0m\u001b[1;33m,\u001b[0m\u001b[0my_test\u001b[0m \u001b[1;33m=\u001b[0m \u001b[0mtrain_test_split\u001b[0m\u001b[1;33m(\u001b[0m\u001b[0mx\u001b[0m\u001b[1;33m,\u001b[0m\u001b[0my\u001b[0m\u001b[1;33m,\u001b[0m \u001b[0mtest_size\u001b[0m \u001b[1;33m=\u001b[0m \u001b[1;36m0.2\u001b[0m\u001b[1;33m,\u001b[0m \u001b[0mrandom_state\u001b[0m \u001b[1;33m=\u001b[0m \u001b[1;36m0\u001b[0m\u001b[1;33m)\u001b[0m\u001b[1;33m\u001b[0m\u001b[1;33m\u001b[0m\u001b[0m\n\u001b[0m",
      "\u001b[1;32m~\\anaconda3\\lib\\site-packages\\sklearn\\model_selection\\_split.py\u001b[0m in \u001b[0;36mtrain_test_split\u001b[1;34m(*arrays, **options)\u001b[0m\n\u001b[0;32m   2128\u001b[0m \u001b[1;33m\u001b[0m\u001b[0m\n\u001b[0;32m   2129\u001b[0m     \u001b[0mn_samples\u001b[0m \u001b[1;33m=\u001b[0m \u001b[0m_num_samples\u001b[0m\u001b[1;33m(\u001b[0m\u001b[0marrays\u001b[0m\u001b[1;33m[\u001b[0m\u001b[1;36m0\u001b[0m\u001b[1;33m]\u001b[0m\u001b[1;33m)\u001b[0m\u001b[1;33m\u001b[0m\u001b[1;33m\u001b[0m\u001b[0m\n\u001b[1;32m-> 2130\u001b[1;33m     n_train, n_test = _validate_shuffle_split(n_samples, test_size, train_size,\n\u001b[0m\u001b[0;32m   2131\u001b[0m                                               default_test_size=0.25)\n\u001b[0;32m   2132\u001b[0m \u001b[1;33m\u001b[0m\u001b[0m\n",
      "\u001b[1;32m~\\anaconda3\\lib\\site-packages\\sklearn\\model_selection\\_split.py\u001b[0m in \u001b[0;36m_validate_shuffle_split\u001b[1;34m(n_samples, test_size, train_size, default_test_size)\u001b[0m\n\u001b[0;32m   1808\u001b[0m \u001b[1;33m\u001b[0m\u001b[0m\n\u001b[0;32m   1809\u001b[0m     \u001b[1;32mif\u001b[0m \u001b[0mn_train\u001b[0m \u001b[1;33m==\u001b[0m \u001b[1;36m0\u001b[0m\u001b[1;33m:\u001b[0m\u001b[1;33m\u001b[0m\u001b[1;33m\u001b[0m\u001b[0m\n\u001b[1;32m-> 1810\u001b[1;33m         raise ValueError(\n\u001b[0m\u001b[0;32m   1811\u001b[0m             \u001b[1;34m'With n_samples={}, test_size={} and train_size={}, the '\u001b[0m\u001b[1;33m\u001b[0m\u001b[1;33m\u001b[0m\u001b[0m\n\u001b[0;32m   1812\u001b[0m             \u001b[1;34m'resulting train set will be empty. Adjust any of the '\u001b[0m\u001b[1;33m\u001b[0m\u001b[1;33m\u001b[0m\u001b[0m\n",
      "\u001b[1;31mValueError\u001b[0m: With n_samples=1, test_size=0.2 and train_size=None, the resulting train set will be empty. Adjust any of the aforementioned parameters."
     ]
    }
   ],
   "source": [
    "from sklearn.model_selection import train_test_split\n",
    "x_train,x_test,y_train,y_test = train_test_split(x,y, test_size = 0.2, random_state = 0)"
   ]
  },
  {
   "cell_type": "code",
   "execution_count": 13,
   "metadata": {},
   "outputs": [
    {
     "ename": "NameError",
     "evalue": "name 'x_train' is not defined",
     "output_type": "error",
     "traceback": [
      "\u001b[1;31m---------------------------------------------------------------------------\u001b[0m",
      "\u001b[1;31mNameError\u001b[0m                                 Traceback (most recent call last)",
      "\u001b[1;32m<ipython-input-13-80784060c951>\u001b[0m in \u001b[0;36m<module>\u001b[1;34m\u001b[0m\n\u001b[1;32m----> 1\u001b[1;33m \u001b[0mx_train\u001b[0m\u001b[1;33m\u001b[0m\u001b[1;33m\u001b[0m\u001b[0m\n\u001b[0m",
      "\u001b[1;31mNameError\u001b[0m: name 'x_train' is not defined"
     ]
    }
   ],
   "source": [
    "x_train"
   ]
  },
  {
   "cell_type": "markdown",
   "metadata": {},
   "source": [
    "                           *** FEATURE SCALING/STANDARTIZATION OF DATASET***"
   ]
  },
  {
   "cell_type": "code",
   "execution_count": null,
   "metadata": {},
   "outputs": [],
   "source": [
    "y_test"
   ]
  },
  {
   "cell_type": "code",
   "execution_count": null,
   "metadata": {},
   "outputs": [],
   "source": [
    "from sklearn.preprocessing import StandardScaler\n",
    "sc = StandardScaler()\n",
    "x_train = sc.fit_transform(x_train)\n",
    "x_test = sc.fit_transform(x_test)"
   ]
  },
  {
   "cell_type": "markdown",
   "metadata": {},
   "source": [
    "                            TRAINING OUR DATA IN LOGISTIC REGRESSION"
   ]
  },
  {
   "cell_type": "code",
   "execution_count": null,
   "metadata": {},
   "outputs": [],
   "source": [
    "from sklearn.linear_model import LogisticRegression\n",
    "classifier = LogisticRegression()\n",
    "classifier.fit(x_train, y_train)"
   ]
  },
  {
   "cell_type": "code",
   "execution_count": null,
   "metadata": {},
   "outputs": [],
   "source": [
    "y_pred = classifier.predict(x_test)\n",
    "y_pred"
   ]
  },
  {
   "cell_type": "code",
   "execution_count": null,
   "metadata": {},
   "outputs": [],
   "source": [
    "y_test"
   ]
  },
  {
   "cell_type": "code",
   "execution_count": null,
   "metadata": {},
   "outputs": [],
   "source": [
    "classifier.predict(sc.transform([[28, 45000]]))"
   ]
  },
  {
   "cell_type": "code",
   "execution_count": null,
   "metadata": {},
   "outputs": [],
   "source": [
    "from sklearn.metrics import accuracy_score, confusion_matrix"
   ]
  },
  {
   "cell_type": "code",
   "execution_count": null,
   "metadata": {},
   "outputs": [],
   "source": [
    "accuracy_score(y_test, y_pred)"
   ]
  },
  {
   "cell_type": "code",
   "execution_count": null,
   "metadata": {},
   "outputs": [],
   "source": [
    "confusion_matrix(y_test, y_pred)"
   ]
  },
  {
   "cell_type": "markdown",
   "metadata": {},
   "source": [
    "                    VISUALIZING OF DATA(MODEL)"
   ]
  },
  {
   "cell_type": "code",
   "execution_count": null,
   "metadata": {},
   "outputs": [],
   "source": [
    "from matplotlib.colors import ListedColormap\n",
    "\n",
    "x_set, y_set = sc.inverse_transform(x_train), y_train\n",
    "x1, x2 = np.meshgrid(np.arange(start = x_set[:,0].min() - 10, stop = x_set[:,0].max() + 10, step =0.25),\n",
    "                     np.arange(start = x_set[:,1].min() - 1000, stop = x_set[:,1].max() + 1000, step =0.25))\n",
    "plt.contourf(x1,x2, classifier.predict(sc.transform(np.array([x1.ravel(), x2.ravel()]).T)).reshape(x1.shape), \n",
    "             alpha = 0.75, cmap = ListedColormap('red','green'))\n",
    "plt.xlim(x1.min(),x1.max())\n",
    "plt.ylim(x2.min(), x2.max())\n",
    "\n",
    "for i, j in enumerate(np.unique(y_set)):\n",
    "  plt.scatter(x_set[y_set == j,0], x_set[y_set == j,1], c = ListedColormap(('red','green'))(i), label =j)\n",
    "plt.title('LogisticRegression_training')\n",
    "plt.xlabel('Age')\n",
    "plt.ylabel('Est salary')\n",
    "plt.legend()\n",
    "plt.show()"
   ]
  },
  {
   "cell_type": "code",
   "execution_count": null,
   "metadata": {},
   "outputs": [],
   "source": []
  }
 ],
 "metadata": {
  "kernelspec": {
   "display_name": "Python 3",
   "language": "python",
   "name": "python3"
  },
  "language_info": {
   "codemirror_mode": {
    "name": "ipython",
    "version": 3
   },
   "file_extension": ".py",
   "mimetype": "text/x-python",
   "name": "python",
   "nbconvert_exporter": "python",
   "pygments_lexer": "ipython3",
   "version": "3.8.5"
  }
 },
 "nbformat": 4,
 "nbformat_minor": 4
}
